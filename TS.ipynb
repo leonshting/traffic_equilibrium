{
 "cells": [
  {
   "cell_type": "code",
   "execution_count": 1,
   "metadata": {
    "collapsed": false
   },
   "outputs": [
    {
     "name": "stderr",
     "output_type": "stream",
     "text": [
      "/Library/anaconda/lib/python2.7/site-packages/matplotlib/font_manager.py:273: UserWarning: Matplotlib is building the font cache using fc-list. This may take a moment.\n",
      "  warnings.warn('Matplotlib is building the font cache using fc-list. This may take a moment.')\n"
     ]
    }
   ],
   "source": [
    "import numpy as np\n",
    "import itertools\n",
    "import pandas as pd\n",
    "import matplotlib\n",
    "%matplotlib inline"
   ]
  },
  {
   "cell_type": "code",
   "execution_count": 2,
   "metadata": {
    "collapsed": true
   },
   "outputs": [],
   "source": [
    "NUMBER_OF_ZONES = 24\n",
    "NUMBER_OF_NODES = 24\n",
    "NUMBER_OF_EDGES = 76\n",
    "#have to read out from file"
   ]
  },
  {
   "cell_type": "code",
   "execution_count": 3,
   "metadata": {
    "collapsed": false
   },
   "outputs": [],
   "source": [
    "net = pd.read_csv('./TransportationNetworks/SiouxFalls/SiouxFalls_net.tntp', sep='\\t', header=5)\n",
    "best_flow = pd.read_csv('./TransportationNetworks/SiouxFalls/SiouxFalls_flow.tntp', sep='\\t')"
   ]
  },
  {
   "cell_type": "code",
   "execution_count": 4,
   "metadata": {
    "collapsed": false
   },
   "outputs": [
    {
     "data": {
      "text/html": [
       "<div>\n",
       "<table border=\"1\" class=\"dataframe\">\n",
       "  <thead>\n",
       "    <tr style=\"text-align: right;\">\n",
       "      <th></th>\n",
       "      <th>Init node</th>\n",
       "      <th>Term node</th>\n",
       "      <th>Capacity</th>\n",
       "      <th>Length</th>\n",
       "      <th>Free Flow Time</th>\n",
       "      <th>B</th>\n",
       "      <th>Power</th>\n",
       "      <th>Speed limit</th>\n",
       "      <th>Toll</th>\n",
       "      <th>Type</th>\n",
       "    </tr>\n",
       "  </thead>\n",
       "  <tbody>\n",
       "    <tr>\n",
       "      <th>0</th>\n",
       "      <td>1</td>\n",
       "      <td>2</td>\n",
       "      <td>25900.200640</td>\n",
       "      <td>6</td>\n",
       "      <td>6</td>\n",
       "      <td>0.15</td>\n",
       "      <td>4</td>\n",
       "      <td>0</td>\n",
       "      <td>0</td>\n",
       "      <td>1</td>\n",
       "    </tr>\n",
       "    <tr>\n",
       "      <th>1</th>\n",
       "      <td>1</td>\n",
       "      <td>3</td>\n",
       "      <td>23403.473190</td>\n",
       "      <td>4</td>\n",
       "      <td>4</td>\n",
       "      <td>0.15</td>\n",
       "      <td>4</td>\n",
       "      <td>0</td>\n",
       "      <td>0</td>\n",
       "      <td>1</td>\n",
       "    </tr>\n",
       "    <tr>\n",
       "      <th>2</th>\n",
       "      <td>2</td>\n",
       "      <td>1</td>\n",
       "      <td>25900.200640</td>\n",
       "      <td>6</td>\n",
       "      <td>6</td>\n",
       "      <td>0.15</td>\n",
       "      <td>4</td>\n",
       "      <td>0</td>\n",
       "      <td>0</td>\n",
       "      <td>1</td>\n",
       "    </tr>\n",
       "    <tr>\n",
       "      <th>3</th>\n",
       "      <td>2</td>\n",
       "      <td>6</td>\n",
       "      <td>4958.180928</td>\n",
       "      <td>5</td>\n",
       "      <td>5</td>\n",
       "      <td>0.15</td>\n",
       "      <td>4</td>\n",
       "      <td>0</td>\n",
       "      <td>0</td>\n",
       "      <td>1</td>\n",
       "    </tr>\n",
       "    <tr>\n",
       "      <th>4</th>\n",
       "      <td>3</td>\n",
       "      <td>1</td>\n",
       "      <td>23403.473190</td>\n",
       "      <td>4</td>\n",
       "      <td>4</td>\n",
       "      <td>0.15</td>\n",
       "      <td>4</td>\n",
       "      <td>0</td>\n",
       "      <td>0</td>\n",
       "      <td>1</td>\n",
       "    </tr>\n",
       "  </tbody>\n",
       "</table>\n",
       "</div>"
      ],
      "text/plain": [
       "   Init node   Term node      Capacity   Length   Free Flow Time      B  \\\n",
       "0           1           2  25900.200640        6                6  0.15   \n",
       "1           1           3  23403.473190        4                4  0.15   \n",
       "2           2           1  25900.200640        6                6  0.15   \n",
       "3           2           6   4958.180928        5                5  0.15   \n",
       "4           3           1  23403.473190        4                4  0.15   \n",
       "\n",
       "   Power  Speed limit   Toll   Type  \n",
       "0      4             0      0     1  \n",
       "1      4             0      0     1  \n",
       "2      4             0      0     1  \n",
       "3      4             0      0     1  \n",
       "4      4             0      0     1  "
      ]
     },
     "execution_count": 4,
     "metadata": {},
     "output_type": "execute_result"
    }
   ],
   "source": [
    "del net[';']\n",
    "del net['~ ']\n",
    "net.head()"
   ]
  },
  {
   "cell_type": "code",
   "execution_count": 5,
   "metadata": {
    "collapsed": false
   },
   "outputs": [],
   "source": [
    "f = open('./TransportationNetworks/SiouxFalls/SiouxFalls_trips.tntp')\n",
    "cnt = 0\n",
    "f_rec = open('./TransportationNetworks/SiouxFalls/splitted_trips/trip_%d.tntp'%(cnt), 'w')\n",
    "for line in f.readlines():\n",
    "    if 'Origin' in line:\n",
    "        f_rec.close()\n",
    "        f_rec = open('./TransportationNetworks/SiouxFalls/splitted_trips/trip_%d.tntp'%(cnt),'w')\n",
    "        cnt += 1\n",
    "    else:\n",
    "        f_rec.write(line)\n",
    "f_rec.close()"
   ]
  },
  {
   "cell_type": "code",
   "execution_count": 6,
   "metadata": {
    "collapsed": false
   },
   "outputs": [],
   "source": [
    "trips = np.zeros((NUMBER_OF_ZONES, NUMBER_OF_ZONES))\n",
    "for i in range(cnt):\n",
    "    f = open('./TransportationNetworks/SiouxFalls/splitted_trips/trip_%d.tntp'%(i))\n",
    "    for line in f.readlines():\n",
    "        for item in line.split(';'):\n",
    "            if not '\\n' in item :\n",
    "                kv = item.split(':')\n",
    "                trips[i, int(kv[0])-1] = float(kv[1])"
   ]
  },
  {
   "cell_type": "code",
   "execution_count": 7,
   "metadata": {
    "collapsed": false
   },
   "outputs": [],
   "source": [
    "net_zones = net[(net['Init node '] <= 110) | (net['Term node '] <= 110)]\n",
    "net_links = net[(net['Init node '] > 110) | (net['Term node '] > 110)]"
   ]
  },
  {
   "cell_type": "code",
   "execution_count": 8,
   "metadata": {
    "collapsed": true
   },
   "outputs": [],
   "source": [
    "import networkx\n",
    "mu = 1./4\n",
    "gamma = 1.\n",
    "\n",
    "def get_new_weight(init_weight, init_cap, cap):\n",
    "    return init_weight*(1 + gamma*(float(cap)/float(init_cap))**(1/mu))\n",
    "## do we need normalize the capacities?"
   ]
  },
  {
   "cell_type": "code",
   "execution_count": 9,
   "metadata": {
    "collapsed": false
   },
   "outputs": [],
   "source": [
    "initcost = networkx.from_pandas_dataframe(df=net, source='Init node ', target='Term node ', edge_attr='Free Flow Time ')\n",
    "editedcost = networkx.from_pandas_dataframe(df=net, source='Init node ', target='Term node ', edge_attr='Free Flow Time ')\n",
    "capacity = networkx.from_pandas_dataframe(df=net, source='Init node ', target='Term node ', edge_attr='Capacity ')\n",
    "flow = np.zeros((NUMBER_OF_NODES, NUMBER_OF_NODES))"
   ]
  },
  {
   "cell_type": "markdown",
   "metadata": {},
   "source": [
    "## Frank Wolf"
   ]
  },
  {
   "cell_type": "code",
   "execution_count": 10,
   "metadata": {
    "collapsed": false
   },
   "outputs": [],
   "source": [
    "shpaths = {}\n",
    "for i in range(NUMBER_OF_ZONES):\n",
    "    shpaths[i+1] = networkx.single_source_dijkstra_path(editedcost, source=i+1, weight='Free Flow Time ')"
   ]
  },
  {
   "cell_type": "code",
   "execution_count": 11,
   "metadata": {
    "collapsed": false
   },
   "outputs": [
    {
     "data": {
      "image/png": "[encoded data removed]",
      "text/plain": [
       "<matplotlib.figure.Figure at 0x112e13910>"
      ]
     },
     "metadata": {},
     "output_type": "display_data"
    }
   ],
   "source": [
    "networkx.draw_circular(editedcost)"
   ]
  },
  {
   "cell_type": "code",
   "execution_count": 12,
   "metadata": {
    "collapsed": false
   },
   "outputs": [],
   "source": [
    "for i,j in itertools.product(range(NUMBER_OF_ZONES), repeat = 2):\n",
    "    if(trips[i][j] != 0):\n",
    "        for fpnode, fnnode in zip(shpaths[i+1][j+1][:-1], shpaths[i+1][j+1][1:]):\n",
    "            pnode = int(fpnode)\n",
    "            nnode = int(fnnode)\n",
    "            flow[int(pnode)-1][int(nnode)-1] += trips[i][j]\n",
    "            \n",
    "for i,j in itertools.product(range(NUMBER_OF_ZONES), repeat = 2):\n",
    "        for fpnode, fnnode in zip(shpaths[i+1][j+1][:-1], shpaths[i+1][j+1][1:]):\n",
    "            pnode = int(fpnode)\n",
    "            nnode = int(fnnode)\n",
    "            editedcost[pnode][nnode]['Free Flow Time '] = get_new_weight(initcost[pnode][nnode]['Free Flow Time '],\n",
    "                                                      capacity[pnode][nnode]['Capacity '], flow[pnode-1][nnode-1])"
   ]
  },
  {
   "cell_type": "code",
   "execution_count": null,
   "metadata": {
    "collapsed": false
   },
   "outputs": [],
   "source": [
    "cnt = 1\n",
    "while cnt<1000:\n",
    "    newflow = np.zeros((NUMBER_OF_NODES, NUMBER_OF_NODES))\n",
    "    gm = 1./(cnt+1)\n",
    "    shpaths = {}\n",
    "    for i in range(NUMBER_OF_ZONES):\n",
    "        shpaths[i+1] = networkx.single_source_dijkstra_path(editedcost, source=i+1, weight='Free Flow Time ')\n",
    "    \n",
    "    for i,j in itertools.product(range(NUMBER_OF_ZONES), repeat = 2):   \n",
    "        for fpnode, fnnode in zip(shpaths[i+1][j+1][:-1], shpaths[i+1][j+1][1:]):\n",
    "            pnode = int(fpnode)\n",
    "            nnode = int(fnnode)\n",
    "            newflow[pnode-1][nnode-1] += trips[i][j]\n",
    "            \n",
    "    #print (\"oldflow - %lf, newflow - %lf\")%(flow[0,1], newflow[0,1]) \n",
    "    flow = flow * (1-gm) + gm * newflow     \n",
    "    \n",
    "    for i,j in itertools.product(range(NUMBER_OF_ZONES), repeat = 2):   \n",
    "        for fpnode, fnnode in zip(shpaths[i+1][j+1][:-1], shpaths[i+1][j+1][1:]):\n",
    "            pnode = int(fpnode)\n",
    "            nnode = int(fnnode)\n",
    "            editedcost[pnode][nnode]['Free Flow Time '] = get_new_weight(initcost[pnode][nnode]['Free Flow Time '],\n",
    "                                                          capacity[pnode][nnode]['Capacity '],\n",
    "                                                          flow[pnode-1][nnode-1])\n",
    "\n",
    "\n",
    "    cnt += 1\n",
    "\n",
    "    if cnt % 50 == 0: \n",
    "        print cnt"
   ]
  },
  {
   "cell_type": "markdown",
   "metadata": {},
   "source": [
    "## Mirror descent"
   ]
  },
  {
   "cell_type": "code",
   "execution_count": 13,
   "metadata": {
    "collapsed": true
   },
   "outputs": [],
   "source": [
    "cumulative_trips = 360600.0\n",
    "#already got trips adjmat\n",
    "mu = 1./4\n",
    "eps = 0.5"
   ]
  },
  {
   "cell_type": "code",
   "execution_count": 14,
   "metadata": {
    "collapsed": false
   },
   "outputs": [],
   "source": [
    "edges_as_v = net[['Init node ', 'Term node ']].as_matrix()\n",
    "times_as_v = net['Free Flow Time '].as_matrix()\n",
    "freetimes_as_v = net['Free Flow Time '].as_matrix()\n",
    "flows_as_v = net['Capacity '].as_matrix()\n",
    "capacity_as_v = net['Capacity '].as_matrix()\n",
    "\n",
    "edges_dict = {}\n",
    "\n",
    "for num, edge in enumerate(edges_as_v):\n",
    "    edges_dict[(edge[0], edge[1])] = num + 1\n",
    "\n",
    "cost = networkx.from_pandas_dataframe(df=net, source='Init node ', target='Term node ', edge_attr='Free Flow Time ')\n",
    "##already have capacity graph"
   ]
  },
  {
   "cell_type": "code",
   "execution_count": 15,
   "metadata": {
    "collapsed": false
   },
   "outputs": [
    {
     "data": {
      "text/plain": [
       "array([  100.,     0.,     0.,   200.,     0.,   100.,   100.,   200.,\n",
       "         200.,   800.,   600.,   500.,   700.,   400.,   400.,   300.,\n",
       "         300.,     0.,   100.,   400.,   500.,  1100.,   700.,     0.])"
      ]
     },
     "execution_count": 15,
     "metadata": {},
     "output_type": "execute_result"
    }
   ],
   "source": [
    "trips[23]"
   ]
  },
  {
   "cell_type": "code",
   "execution_count": 16,
   "metadata": {
    "collapsed": false
   },
   "outputs": [
    {
     "name": "stdout",
     "output_type": "stream",
     "text": [
      "[  8800.   4000.   2800.  11600.   6100.   7600.  12100.  16700.  16200.\n",
      "  45200.  22300.  13900.  14600.  14100.  21400.  26100.  23400.   4800.\n",
      "  12800.  18500.  11000.  24400.  14500.   7700.]\n"
     ]
    }
   ],
   "source": [
    "def seed(arr):\n",
    "    ret = np.zeros(NUMBER_OF_ZONES+1)\n",
    "    ret2 = np.zeros(NUMBER_OF_ZONES)\n",
    "    ret[0] = 0\n",
    "    for i in range(1, NUMBER_OF_ZONES+1):\n",
    "        ret[i] = np.sum(arr[i-1])\n",
    "        ret2[i-1] = ret[i]\n",
    "        ret[i] += ret[i-1]\n",
    "    return ret, ret2\n",
    "\n",
    "def get_num(seed, val):\n",
    "    for num, (sl,sg) in enumerate(zip(seed[:-1], seed[1:])):\n",
    "        if val >= sl and val <= sg:\n",
    "            return num\n",
    "    \n",
    "seed_trips, V_trips = seed(trips)\n",
    "print V_trips\n",
    "\n",
    "def dF(g, cap_g, trips):\n",
    "    choice = get_num(seed_trips, np.random.uniform(low=0, high=cumulative_trips))\n",
    "    paths = networkx.single_source_dijkstra_path(g, source=choice+1, weight='Free Flow Time ')\n",
    "    ret = np.zeros(NUMBER_OF_EDGES)\n",
    "    ## need or not?\n",
    "    ###ret += cap_g\n",
    "    for numV, V in enumerate(trips[choice]):\n",
    "        if V!=0:\n",
    "            \n",
    "            ##setting up partly ones here\n",
    "            df = np.zeros(NUMBER_OF_EDGES)\n",
    "            for i,j in zip(paths[numV+1][:-1], paths[numV+1][1:]):\n",
    "                df[edges_dict[(i,j)] - 1] = 1\n",
    "            ##\n",
    "            ret += -cumulative_trips*V/V_trips[choice]*df\n",
    "            #ret += -cumulative_trips*V/V_trips[choice]*df\n",
    "    return ret\n",
    "\n",
    "def sigma_conj(capacity, t_freeflow, t, gm=1):\n",
    "    return capacity*((t-t_freeflow)/(t_freeflow*gm))**mu*(t-t_freeflow)/(1+mu)\n",
    "\n",
    "def sigma_conj_der(capacity, t_freeflow, t, gm=1):\n",
    "    return capacity*(mu+1)*(t-t_freeflow)**mu/((t_freeflow*gm)**mu*(1+mu))\n",
    "\n",
    "def gm(dF, eps):\n",
    "    return eps/(np.linalg.norm(dF))**2"
   ]
  },
  {
   "cell_type": "code",
   "execution_count": 17,
   "metadata": {
    "collapsed": false
   },
   "outputs": [],
   "source": [
    "from sympy import MatrixSymbol, Matrix, Symbol\n",
    "from scipy import optimize"
   ]
  },
  {
   "cell_type": "code",
   "execution_count": 19,
   "metadata": {
    "collapsed": false
   },
   "outputs": [
    {
     "name": "stdout",
     "output_type": "stream",
     "text": [
      "[  6.00000086   4.00005541   6.00014109   5.00014603   4.0009073\n",
      "   4.0009393    4.00070275   4.00209908   2.0021945    6.001238\n",
      "   2.00408332   4.00235736   5.00116482   5.00153167   4.00244339\n",
      "   2.00286819   3.00196951   2.00246566   2.00623313   3.00197429\n",
      "  10.00016288   5.00347871   5.00196979  10.00005327   3.00308978\n",
      "   3.00568745   5.00643279   6.00384129   4.01008243   8.           6.00124171\n",
      "   5.00317427   6.0029344    4.00306212   4.00091411   6.00229323\n",
      "   3.00183868   3.00165028   4.00175424   4.00634845   5.00195895\n",
      "   4.00239823   6.0044979    5.00309254   3.00764105   3.00843036\n",
      "   5.00401237   4.00655987   2.00762265   3.00370547   8.           2.01077456\n",
      "   2.00763925   2.00330884   3.00247167   4.00197993   3.00397594\n",
      "   2.00779734   4.00142197   4.00304603   4.00152787   6.0011134\n",
      "   5.00137711   6.00110996   2.00479741   3.00510788   3.00721026\n",
      "   5.00153165   2.00554449   4.00305956   4.00310126   4.00284522\n",
      "   2.00191915   4.00383828   3.00313518   2.00173958]\n"
     ]
    }
   ],
   "source": [
    "cnt = 1\n",
    "while cnt<2:\n",
    "    grad_vec = dF(cost, capacity_as_v, trips)\n",
    "    \n",
    "    t_new = np.zeros(NUMBER_OF_EDGES)\n",
    "    for i in range(NUMBER_OF_EDGES):\n",
    "        #t_new[i] = optimize.fsolve(lambda t: gm(grad_vec, eps)*\n",
    "        #    (grad_vec[i] + capacity_as_v[i]*(t - times_as_v[i])**mu)/\n",
    "        #    (times_as_v[i]*gm(grad_vec, eps))**mu) + t - times_as_v[i], times_as_v[i])\n",
    "        \n",
    "        t_new[i] = optimize.fsolve(lambda t: gm(grad_vec, eps)*\n",
    "            (grad_vec[i] + capacity_as_v[i]*(t - freetimes_as_v[i])**mu)/\n",
    "            ((freetimes_as_v[i]*gm(grad_vec, eps))**mu) + t - times_as_v[i], times_as_v[i])\n",
    "    print times_as_v\n",
    "    times_as_v = t_new.copy()\n",
    "    for edge, time in zip(edges_as_v, times_as_v):\n",
    "        cost[edge[0]][edge[1]]['Free Flow Time '] = time\n",
    "    if(cnt % 100 == 0):\n",
    "        print cnt\n",
    "    cnt += 1"
   ]
  },
  {
   "cell_type": "code",
   "execution_count": null,
   "metadata": {
    "collapsed": false
   },
   "outputs": [],
   "source": [
    "sol_cost = best_flow['Cost '].as_matrix()"
   ]
  },
  {
   "cell_type": "code",
   "execution_count": null,
   "metadata": {
    "collapsed": false
   },
   "outputs": [],
   "source": [
    "sol_cost"
   ]
  },
  {
   "cell_type": "code",
   "execution_count": null,
   "metadata": {
    "collapsed": false
   },
   "outputs": [],
   "source": [
    "times_as_v"
   ]
  },
  {
   "cell_type": "code",
   "execution_count": null,
   "metadata": {
    "collapsed": true
   },
   "outputs": [],
   "source": []
  }
 ],
 "metadata": {
  "anaconda-cloud": {},
  "kernelspec": {
   "display_name": "Python [conda root]",
   "language": "python",
   "name": "conda-root-py"
  },
  "language_info": {
   "codemirror_mode": {
    "name": "ipython",
    "version": 2
   },
   "file_extension": ".py",
   "mimetype": "text/x-python",
   "name": "python",
   "nbconvert_exporter": "python",
   "pygments_lexer": "ipython2",
   "version": "2.7.12"
  }
 },
 "nbformat": 4,
 "nbformat_minor": 1
}
